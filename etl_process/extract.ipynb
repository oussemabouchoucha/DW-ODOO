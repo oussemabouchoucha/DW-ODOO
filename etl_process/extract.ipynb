{
 "cells": [
  {
   "cell_type": "code",
   "execution_count": 1,
   "id": "setup-cell",
   "metadata": {},
   "outputs": [],
   "source": [
    "# Set JAVA_HOME environment variable\n",
    "import os\n",
    "os.environ['JAVA_HOME'] = r'C:\\Program Files\\Java\\jre1.8.0_451'\n",
    "\n",
    "from pyspark.sql import SparkSession\n",
    "from datetime import datetime\n",
    "import os\n",
    "import logging\n",
    "\n",
    "# Initialize Spark session\n",
    "spark = SparkSession.builder \\\n",
    "    .appName(\"Data Ingestion\") \\\n",
    "    .getOrCreate()"
   ]
  },
  {
   "cell_type": "code",
   "execution_count": 2,
   "id": "521aa602",
   "metadata": {},
   "outputs": [],
   "source": [
    "# Define paths\n",
    "base_path = \"../data/\"\n",
    "bronze_base_path = \"../output/bronzeLayer\"\n",
    "date_str = datetime.now().strftime(\"%Y-%m-%d\")\n",
    "\n",
    "# Log path organized by date\n",
    "log_dir = os.path.join(\"../logs\", \"data_ingestion\", date_str)\n",
    "log_path = os.path.join(log_dir, \"data_ingestion.log\")\n",
    "\n",
    "# Ensure the logs directory exists\n",
    "os.makedirs(log_dir, exist_ok=True)"
   ]
  },
  {
   "cell_type": "code",
   "execution_count": 3,
   "id": "4d3bd991",
   "metadata": {},
   "outputs": [],
   "source": [
    "# Configure logging to write to the log file\n",
    "logging.basicConfig(filename=log_path, level=logging.INFO,\n",
    "                    format='%(asctime)s - %(levelname)s - %(message)s')\n",
    "\n",
    "def log_message(message, level=\"info\"):\n",
    "    \"\"\"Logs messages with the specified level.\"\"\"\n",
    "    if level == \"info\":\n",
    "        logging.info(message)\n",
    "    elif level == \"error\":\n",
    "        logging.error(message)\n",
    "    print(message)  \n",
    "\n",
    "# Define source\n",
    "source = \"mrp_production\""
   ]
  },
  {
   "cell_type": "code",
   "execution_count": null,
   "id": "main-cell",
   "metadata": {},
   "outputs": [
    {
     "name": "stdout",
     "output_type": "stream",
     "text": [
      "Starting ingestion for mrp_production from ../data/mrp_production.csv to ../output/bronzeLayer\\2025-05-08\n",
      "Successfully ingested mrp_production data to ../output/bronzeLayer\\2025-05-08\n",
      "Data ingestion process completed.\n"
     ]
    }
   ],
   "source": [
    "try:\n",
    "    raw_path = os.path.join(base_path, f\"{source}.csv\")\n",
    "    bronze_path = os.path.join(bronze_base_path, date_str)\n",
    "\n",
    "    # Log start of the ingestion process\n",
    "    log_message(f\"Starting ingestion for {source} from {raw_path} to {bronze_path}\")\n",
    "\n",
    "    # Read raw data\n",
    "    df = spark.read.csv(raw_path, header=True, inferSchema=True)\n",
    "    \n",
    "    # Ensure the bronze path exists\n",
    "    os.makedirs(bronze_path, exist_ok=True)\n",
    "    \n",
    "    # Write to Bronze layer in Parquet format, organized by date\n",
    "    df.write.mode(\"overwrite\").parquet(bronze_path)\n",
    "    \n",
    "    # Log successful ingestion\n",
    "    log_message(f\"Successfully ingested {source} data to {bronze_path}\")\n",
    "    \n",
    "except Exception as e:\n",
    "    # Log any errors encountered during ingestion\n",
    "    log_message(f\"Error ingesting {source} data: {e}\", level=\"error\")\n",
    "\n",
    "# Stop Spark session\n",
    "spark.stop()\n",
    "log_message(\"Data ingestion process completed.\")"
   ]
  }
 ],
 "metadata": {
  "kernelspec": {
   "display_name": "Python 3",
   "language": "python",
   "name": "python3"
  },
  "language_info": {
   "codemirror_mode": {
    "name": "ipython",
    "version": 3
   },
   "file_extension": ".py",
   "mimetype": "text/x-python",
   "name": "python",
   "nbconvert_exporter": "python",
   "pygments_lexer": "ipython3",
   "version": "3.10.11"
  }
 },
 "nbformat": 4,
 "nbformat_minor": 5
}
