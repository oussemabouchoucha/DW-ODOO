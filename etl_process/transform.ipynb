{
 "cells": [
  {
   "cell_type": "markdown",
   "id": "fead3123",
   "metadata": {},
   "source": [
    "# Data Transformation Process\n",
    "\n",
    "This notebook transforms data from the Bronze layer into the Silver layer. It represents the second major step in our ETL pipeline, after data extraction and quality checks.\n",
    "\n",
    "## Process Overview\n",
    "1. Set up environment and initialize Spark session\n",
    "2. Define paths and configure logging\n",
    "3. Read data from Bronze layer\n",
    "4. Clean and transform the data\n",
    "5. Add derived features and metrics\n",
    "6. Save transformed data to Silver layer"
   ]
  },
  {
   "cell_type": "markdown",
   "id": "3c95a42e",
   "metadata": {},
   "source": [
    "## 1. Environment Setup\n",
    "\n",
    "Initialize Spark session and import required libraries."
   ]
  },
  {
   "cell_type": "code",
   "execution_count": 43,
   "id": "setup-cell",
   "metadata": {},
   "outputs": [],
   "source": [
    "# Set JAVA_HOME environment variable\n",
    "import os\n",
    "os.environ['JAVA_HOME'] = r'C:\\Program Files\\Java\\jre1.8.0_451'\n",
    "\n",
    "from pyspark.sql import SparkSession\n",
    "from pyspark.sql import functions as F\n",
    "from pyspark.sql.types import IntegerType, DoubleType, DateType\n",
    "from datetime import datetime\n",
    "import logging\n",
    "\n",
    "# Initialize Spark session\n",
    "spark = SparkSession.builder \\\n",
    "    .appName(\"Data Transformation\") \\\n",
    "    .getOrCreate()"
   ]
  },
  {
   "cell_type": "markdown",
   "id": "path-config-header",
   "metadata": {},
   "source": [
    "## 2. Path Configuration and Logging Setup\n",
    "\n",
    "Define paths for bronze and silver layers, and set up logging."
   ]
  },
  {
   "cell_type": "code",
   "execution_count": 44,
   "id": "paths-cell",
   "metadata": {},
   "outputs": [
    {
     "name": "stdout",
     "output_type": "stream",
     "text": [
      "Bronze path: c:\\Users\\oussema\\OneDrive\\Bureau\\FSEGN\\DW-Odoo\\output\\bronzeLayer\\2025-05-08\n",
      "Silver path: c:\\Users\\oussema\\OneDrive\\Bureau\\FSEGN\\DW-Odoo\\output\\silverLayer\\2025-05-08\n"
     ]
    }
   ],
   "source": [
    "# Define paths - use absolute paths to avoid confusion\n",
    "current_dir = os.path.dirname(os.path.abspath(\"__file__\"))\n",
    "base_dir = os.path.dirname(current_dir)  # Go up one level to reach the root directory\n",
    "\n",
    "# Get the latest date from bronze layer\n",
    "bronze_base_path = os.path.join(base_dir, \"output\", \"bronzeLayer\")\n",
    "silver_base_path = os.path.join(base_dir, \"output\", \"silverLayer\")\n",
    "\n",
    "# Use current date for silver layer\n",
    "date_str = datetime.now().strftime(\"%Y-%m-%d\")\n",
    "\n",
    "# Log path organized by date\n",
    "log_dir = os.path.join(base_dir, \"logs\", \"data_transformation\", date_str)\n",
    "log_path = os.path.join(log_dir, \"data_transformation.log\")\n",
    "\n",
    "# Ensure the logs directory exists\n",
    "os.makedirs(log_dir, exist_ok=True)\n",
    "\n",
    "# Configure logging to write to the log file\n",
    "logging.basicConfig(filename=log_path, level=logging.INFO,\n",
    "                    format='%(asctime)s - %(levelname)s - %(message)s')\n",
    "\n",
    "def log_message(message, level=\"info\"):\n",
    "    \"\"\"Logs messages with the specified level.\"\"\"\n",
    "    if level == \"info\":\n",
    "        logging.info(message)\n",
    "    elif level == \"error\":\n",
    "        logging.error(message)\n",
    "    print(message)\n",
    "\n",
    "# Find the latest date folder in bronze layer\n",
    "import glob\n",
    "bronze_date_folders = glob.glob(os.path.join(bronze_base_path, \"*\"))\n",
    "if not bronze_date_folders:\n",
    "    raise Exception(f\"No date folders found in {bronze_base_path}\")\n",
    "\n",
    "latest_bronze_folder = max(bronze_date_folders)\n",
    "bronze_path = latest_bronze_folder\n",
    "silver_path = os.path.join(silver_base_path, date_str)\n",
    "\n",
    "print(f\"Bronze path: {bronze_path}\")\n",
    "print(f\"Silver path: {silver_path}\")"
   ]
  },
  {
   "cell_type": "markdown",
   "id": "data-loading-header",
   "metadata": {},
   "source": [
    "## 3. Data Loading\n",
    "\n",
    "Load data from the Bronze layer and examine its structure."
   ]
  },
  {
   "cell_type": "code",
   "execution_count": 45,
   "id": "read-data-cell",
   "metadata": {},
   "outputs": [
    {
     "name": "stdout",
     "output_type": "stream",
     "text": [
      "Initial row count: 1734\n",
      "Initial columns: ['Component Status', 'Product', 'Reference', 'Source', 'Responsible', 'Start', 'End', 'Deadline', 'State', 'Quantity Producing', 'Quantity To Produce', 'Total Quantity', 'Product/Cost', 'Product/Sales Price']\n"
     ]
    },
    {
     "data": {
      "application/vnd.microsoft.datawrangler.viewer.v0+json": {
       "columns": [
        {
         "name": "index",
         "rawType": "int64",
         "type": "integer"
        },
        {
         "name": "Component Status",
         "rawType": "object",
         "type": "unknown"
        },
        {
         "name": "Product",
         "rawType": "object",
         "type": "string"
        },
        {
         "name": "Reference",
         "rawType": "object",
         "type": "string"
        },
        {
         "name": "Source",
         "rawType": "object",
         "type": "unknown"
        },
        {
         "name": "Responsible",
         "rawType": "object",
         "type": "string"
        },
        {
         "name": "Start",
         "rawType": "datetime64[ns]",
         "type": "datetime"
        },
        {
         "name": "End",
         "rawType": "datetime64[ns]",
         "type": "datetime"
        },
        {
         "name": "Deadline",
         "rawType": "datetime64[ns]",
         "type": "datetime"
        },
        {
         "name": "State",
         "rawType": "object",
         "type": "unknown"
        },
        {
         "name": "Quantity Producing",
         "rawType": "float64",
         "type": "float"
        },
        {
         "name": "Quantity To Produce",
         "rawType": "float64",
         "type": "float"
        },
        {
         "name": "Total Quantity",
         "rawType": "float64",
         "type": "float"
        },
        {
         "name": "Product/Cost",
         "rawType": "float64",
         "type": "float"
        },
        {
         "name": "Product/Sales Price",
         "rawType": "float64",
         "type": "float"
        }
       ],
       "conversionMethod": "pd.DataFrame",
       "ref": "64bc46e0-f965-437e-a6ec-e7ff34bbe5e8",
       "rows": [
        [
         "0",
         null,
         "[FURN_8855] Drawer",
         "WH/MO/01679",
         null,
         "OdooBot",
         "2024-01-03 01:00:00",
         "2024-02-19 01:00:00",
         "2024-01-25 01:00:00",
         "Cancelled",
         "12.0",
         "17.0",
         "17.0",
         "100.0",
         "110.5"
        ],
        [
         "1",
         null,
         "[FURN_8522] Table Top",
         "WH/MO/07299",
         "SO-8299",
         "Default User Template",
         "2024-01-03 01:00:00",
         "2024-02-27 01:00:00",
         "2024-01-22 01:00:00",
         "Cancelled",
         "4.0",
         "13.0",
         "13.0",
         "240.0",
         "380.0"
        ],
        [
         "2",
         "Available",
         "[FURN_9666] Table",
         "WH/MO/02264",
         null,
         "Public user",
         "2024-01-06 01:00:00",
         "2024-02-06 01:00:00",
         "2024-03-29 01:00:00",
         null,
         "19.0",
         "19.0",
         "19.0",
         "290.0",
         "520.0"
        ],
        [
         "3",
         "Available",
         "[FURN_7023] Wood Panel",
         "WH/MO/03734",
         null,
         "Mitchell Admin",
         "2024-01-06 01:00:00",
         "2024-02-17 01:00:00",
         "2024-03-20 01:00:00",
         null,
         "10.0",
         "10.0",
         "10.0",
         "80.0",
         "100.0"
        ],
        [
         "4",
         "Available",
         "[FURN_7023] Wood Panel",
         "WH/MO/03614",
         "SO-4614",
         "Mitchell Admin",
         "2024-01-07 01:00:00",
         "2024-02-03 01:00:00",
         "2024-03-11 01:00:00",
         null,
         "15.0",
         "15.0",
         "15.0",
         "80.0",
         "100.0"
        ]
       ],
       "shape": {
        "columns": 14,
        "rows": 5
       }
      },
      "text/html": [
       "<div>\n",
       "<style scoped>\n",
       "    .dataframe tbody tr th:only-of-type {\n",
       "        vertical-align: middle;\n",
       "    }\n",
       "\n",
       "    .dataframe tbody tr th {\n",
       "        vertical-align: top;\n",
       "    }\n",
       "\n",
       "    .dataframe thead th {\n",
       "        text-align: right;\n",
       "    }\n",
       "</style>\n",
       "<table border=\"1\" class=\"dataframe\">\n",
       "  <thead>\n",
       "    <tr style=\"text-align: right;\">\n",
       "      <th></th>\n",
       "      <th>Component Status</th>\n",
       "      <th>Product</th>\n",
       "      <th>Reference</th>\n",
       "      <th>Source</th>\n",
       "      <th>Responsible</th>\n",
       "      <th>Start</th>\n",
       "      <th>End</th>\n",
       "      <th>Deadline</th>\n",
       "      <th>State</th>\n",
       "      <th>Quantity Producing</th>\n",
       "      <th>Quantity To Produce</th>\n",
       "      <th>Total Quantity</th>\n",
       "      <th>Product/Cost</th>\n",
       "      <th>Product/Sales Price</th>\n",
       "    </tr>\n",
       "  </thead>\n",
       "  <tbody>\n",
       "    <tr>\n",
       "      <th>0</th>\n",
       "      <td>None</td>\n",
       "      <td>[FURN_8855] Drawer</td>\n",
       "      <td>WH/MO/01679</td>\n",
       "      <td>None</td>\n",
       "      <td>OdooBot</td>\n",
       "      <td>2024-01-03 01:00:00</td>\n",
       "      <td>2024-02-19 01:00:00</td>\n",
       "      <td>2024-01-25 01:00:00</td>\n",
       "      <td>Cancelled</td>\n",
       "      <td>12.0</td>\n",
       "      <td>17.0</td>\n",
       "      <td>17.0</td>\n",
       "      <td>100.0</td>\n",
       "      <td>110.5</td>\n",
       "    </tr>\n",
       "    <tr>\n",
       "      <th>1</th>\n",
       "      <td>None</td>\n",
       "      <td>[FURN_8522] Table Top</td>\n",
       "      <td>WH/MO/07299</td>\n",
       "      <td>SO-8299</td>\n",
       "      <td>Default User Template</td>\n",
       "      <td>2024-01-03 01:00:00</td>\n",
       "      <td>2024-02-27 01:00:00</td>\n",
       "      <td>2024-01-22 01:00:00</td>\n",
       "      <td>Cancelled</td>\n",
       "      <td>4.0</td>\n",
       "      <td>13.0</td>\n",
       "      <td>13.0</td>\n",
       "      <td>240.0</td>\n",
       "      <td>380.0</td>\n",
       "    </tr>\n",
       "    <tr>\n",
       "      <th>2</th>\n",
       "      <td>Available</td>\n",
       "      <td>[FURN_9666] Table</td>\n",
       "      <td>WH/MO/02264</td>\n",
       "      <td>None</td>\n",
       "      <td>Public user</td>\n",
       "      <td>2024-01-06 01:00:00</td>\n",
       "      <td>2024-02-06 01:00:00</td>\n",
       "      <td>2024-03-29 01:00:00</td>\n",
       "      <td>None</td>\n",
       "      <td>19.0</td>\n",
       "      <td>19.0</td>\n",
       "      <td>19.0</td>\n",
       "      <td>290.0</td>\n",
       "      <td>520.0</td>\n",
       "    </tr>\n",
       "    <tr>\n",
       "      <th>3</th>\n",
       "      <td>Available</td>\n",
       "      <td>[FURN_7023] Wood Panel</td>\n",
       "      <td>WH/MO/03734</td>\n",
       "      <td>None</td>\n",
       "      <td>Mitchell Admin</td>\n",
       "      <td>2024-01-06 01:00:00</td>\n",
       "      <td>2024-02-17 01:00:00</td>\n",
       "      <td>2024-03-20 01:00:00</td>\n",
       "      <td>None</td>\n",
       "      <td>10.0</td>\n",
       "      <td>10.0</td>\n",
       "      <td>10.0</td>\n",
       "      <td>80.0</td>\n",
       "      <td>100.0</td>\n",
       "    </tr>\n",
       "    <tr>\n",
       "      <th>4</th>\n",
       "      <td>Available</td>\n",
       "      <td>[FURN_7023] Wood Panel</td>\n",
       "      <td>WH/MO/03614</td>\n",
       "      <td>SO-4614</td>\n",
       "      <td>Mitchell Admin</td>\n",
       "      <td>2024-01-07 01:00:00</td>\n",
       "      <td>2024-02-03 01:00:00</td>\n",
       "      <td>2024-03-11 01:00:00</td>\n",
       "      <td>None</td>\n",
       "      <td>15.0</td>\n",
       "      <td>15.0</td>\n",
       "      <td>15.0</td>\n",
       "      <td>80.0</td>\n",
       "      <td>100.0</td>\n",
       "    </tr>\n",
       "  </tbody>\n",
       "</table>\n",
       "</div>"
      ],
      "text/plain": [
       "  Component Status                 Product    Reference   Source  \\\n",
       "0             None      [FURN_8855] Drawer  WH/MO/01679     None   \n",
       "1             None   [FURN_8522] Table Top  WH/MO/07299  SO-8299   \n",
       "2        Available       [FURN_9666] Table  WH/MO/02264     None   \n",
       "3        Available  [FURN_7023] Wood Panel  WH/MO/03734     None   \n",
       "4        Available  [FURN_7023] Wood Panel  WH/MO/03614  SO-4614   \n",
       "\n",
       "             Responsible               Start                 End  \\\n",
       "0                OdooBot 2024-01-03 01:00:00 2024-02-19 01:00:00   \n",
       "1  Default User Template 2024-01-03 01:00:00 2024-02-27 01:00:00   \n",
       "2            Public user 2024-01-06 01:00:00 2024-02-06 01:00:00   \n",
       "3         Mitchell Admin 2024-01-06 01:00:00 2024-02-17 01:00:00   \n",
       "4         Mitchell Admin 2024-01-07 01:00:00 2024-02-03 01:00:00   \n",
       "\n",
       "             Deadline      State  Quantity Producing  Quantity To Produce  \\\n",
       "0 2024-01-25 01:00:00  Cancelled                12.0                 17.0   \n",
       "1 2024-01-22 01:00:00  Cancelled                 4.0                 13.0   \n",
       "2 2024-03-29 01:00:00       None                19.0                 19.0   \n",
       "3 2024-03-20 01:00:00       None                10.0                 10.0   \n",
       "4 2024-03-11 01:00:00       None                15.0                 15.0   \n",
       "\n",
       "   Total Quantity  Product/Cost  Product/Sales Price  \n",
       "0            17.0         100.0                110.5  \n",
       "1            13.0         240.0                380.0  \n",
       "2            19.0         290.0                520.0  \n",
       "3            10.0          80.0                100.0  \n",
       "4            15.0          80.0                100.0  "
      ]
     },
     "metadata": {},
     "output_type": "display_data"
    }
   ],
   "source": [
    "# Read data from bronze layer\n",
    "df = spark.read.parquet(bronze_path)\n",
    "\n",
    "# Display initial data stats\n",
    "print(f\"Initial row count: {df.count()}\")\n",
    "print(f\"Initial columns: {df.columns}\")\n",
    "\n",
    "# Display sample data\n",
    "display(df.limit(5).toPandas())"
   ]
  },
  {
   "cell_type": "markdown",
   "id": "data-cleaning-header",
   "metadata": {},
   "source": [
    "## 4. Data Cleaning\n",
    "\n",
    "### 4.1 Remove Unused Columns\n",
    "\n",
    "Remove columns that are not needed for analysis."
   ]
  },
  {
   "cell_type": "code",
   "execution_count": 46,
   "id": "b2e628cb",
   "metadata": {},
   "outputs": [],
   "source": [
    "#remove unused columns\n",
    "df = df.drop(\"Component Status\", \"Source\")"
   ]
  },
  {
   "cell_type": "markdown",
   "id": "data-validation-header",
   "metadata": {},
   "source": [
    "### 4.2 Data Validation\n",
    "\n",
    "Check for missing values and validate data quality."
   ]
  },
  {
   "cell_type": "code",
   "execution_count": 47,
   "id": "6db0bfdf",
   "metadata": {},
   "outputs": [
    {
     "name": "stdout",
     "output_type": "stream",
     "text": [
      "Number of rows with null Responsible: 0\n",
      "+--------------------+\n",
      "|         Responsible|\n",
      "+--------------------+\n",
      "|Default User Temp...|\n",
      "|         Public user|\n",
      "|             OdooBot|\n",
      "|      Mitchell Admin|\n",
      "|Portal User Template|\n",
      "+--------------------+\n",
      "\n"
     ]
    }
   ],
   "source": [
    "# count Responsible with null values and print the result\n",
    "print(f\"Number of rows with null Responsible: {df.filter(F.col('Responsible').isNull()).count()}\")\n",
    "# check responsible values\n",
    "df.select(\"Responsible\").distinct().show()"
   ]
  },
  {
   "cell_type": "code",
   "execution_count": 48,
   "id": "00986910",
   "metadata": {},
   "outputs": [
    {
     "data": {
      "application/vnd.microsoft.datawrangler.viewer.v0+json": {
       "columns": [
        {
         "name": "index",
         "rawType": "int64",
         "type": "integer"
        },
        {
         "name": "Product",
         "rawType": "object",
         "type": "string"
        },
        {
         "name": "Reference",
         "rawType": "object",
         "type": "string"
        },
        {
         "name": "Responsible",
         "rawType": "object",
         "type": "string"
        },
        {
         "name": "Start",
         "rawType": "datetime64[ns]",
         "type": "datetime"
        },
        {
         "name": "End",
         "rawType": "datetime64[ns]",
         "type": "datetime"
        },
        {
         "name": "Deadline",
         "rawType": "datetime64[ns]",
         "type": "datetime"
        },
        {
         "name": "State",
         "rawType": "object",
         "type": "unknown"
        },
        {
         "name": "Quantity Producing",
         "rawType": "float64",
         "type": "float"
        },
        {
         "name": "Quantity To Produce",
         "rawType": "float64",
         "type": "float"
        },
        {
         "name": "Total Quantity",
         "rawType": "float64",
         "type": "float"
        },
        {
         "name": "Product/Cost",
         "rawType": "float64",
         "type": "float"
        },
        {
         "name": "Product/Sales Price",
         "rawType": "float64",
         "type": "float"
        }
       ],
       "conversionMethod": "pd.DataFrame",
       "ref": "e779b59a-d9ac-41dc-babb-1609142622f7",
       "rows": [
        [
         "0",
         "[FURN_8855] Drawer",
         "WH/MO/01679",
         "Department 1",
         "2024-01-03 01:00:00",
         "2024-02-19 01:00:00",
         "2024-01-25 01:00:00",
         "Cancelled",
         "12.0",
         "17.0",
         "17.0",
         "100.0",
         "110.5"
        ],
        [
         "1",
         "[FURN_8522] Table Top",
         "WH/MO/07299",
         "Department 3",
         "2024-01-03 01:00:00",
         "2024-02-27 01:00:00",
         "2024-01-22 01:00:00",
         "Cancelled",
         "4.0",
         "13.0",
         "13.0",
         "240.0",
         "380.0"
        ],
        [
         "2",
         "[FURN_9666] Table",
         "WH/MO/02264",
         "Department 4",
         "2024-01-06 01:00:00",
         "2024-02-06 01:00:00",
         "2024-03-29 01:00:00",
         null,
         "19.0",
         "19.0",
         "19.0",
         "290.0",
         "520.0"
        ],
        [
         "3",
         "[FURN_7023] Wood Panel",
         "WH/MO/03734",
         "Department 2",
         "2024-01-06 01:00:00",
         "2024-02-17 01:00:00",
         "2024-03-20 01:00:00",
         null,
         "10.0",
         "10.0",
         "10.0",
         "80.0",
         "100.0"
        ],
        [
         "4",
         "[FURN_7023] Wood Panel",
         "WH/MO/03614",
         "Department 2",
         "2024-01-07 01:00:00",
         "2024-02-03 01:00:00",
         "2024-03-11 01:00:00",
         null,
         "15.0",
         "15.0",
         "15.0",
         "80.0",
         "100.0"
        ]
       ],
       "shape": {
        "columns": 12,
        "rows": 5
       }
      },
      "text/html": [
       "<div>\n",
       "<style scoped>\n",
       "    .dataframe tbody tr th:only-of-type {\n",
       "        vertical-align: middle;\n",
       "    }\n",
       "\n",
       "    .dataframe tbody tr th {\n",
       "        vertical-align: top;\n",
       "    }\n",
       "\n",
       "    .dataframe thead th {\n",
       "        text-align: right;\n",
       "    }\n",
       "</style>\n",
       "<table border=\"1\" class=\"dataframe\">\n",
       "  <thead>\n",
       "    <tr style=\"text-align: right;\">\n",
       "      <th></th>\n",
       "      <th>Product</th>\n",
       "      <th>Reference</th>\n",
       "      <th>Responsible</th>\n",
       "      <th>Start</th>\n",
       "      <th>End</th>\n",
       "      <th>Deadline</th>\n",
       "      <th>State</th>\n",
       "      <th>Quantity Producing</th>\n",
       "      <th>Quantity To Produce</th>\n",
       "      <th>Total Quantity</th>\n",
       "      <th>Product/Cost</th>\n",
       "      <th>Product/Sales Price</th>\n",
       "    </tr>\n",
       "  </thead>\n",
       "  <tbody>\n",
       "    <tr>\n",
       "      <th>0</th>\n",
       "      <td>[FURN_8855] Drawer</td>\n",
       "      <td>WH/MO/01679</td>\n",
       "      <td>Department 1</td>\n",
       "      <td>2024-01-03 01:00:00</td>\n",
       "      <td>2024-02-19 01:00:00</td>\n",
       "      <td>2024-01-25 01:00:00</td>\n",
       "      <td>Cancelled</td>\n",
       "      <td>12.0</td>\n",
       "      <td>17.0</td>\n",
       "      <td>17.0</td>\n",
       "      <td>100.0</td>\n",
       "      <td>110.5</td>\n",
       "    </tr>\n",
       "    <tr>\n",
       "      <th>1</th>\n",
       "      <td>[FURN_8522] Table Top</td>\n",
       "      <td>WH/MO/07299</td>\n",
       "      <td>Department 3</td>\n",
       "      <td>2024-01-03 01:00:00</td>\n",
       "      <td>2024-02-27 01:00:00</td>\n",
       "      <td>2024-01-22 01:00:00</td>\n",
       "      <td>Cancelled</td>\n",
       "      <td>4.0</td>\n",
       "      <td>13.0</td>\n",
       "      <td>13.0</td>\n",
       "      <td>240.0</td>\n",
       "      <td>380.0</td>\n",
       "    </tr>\n",
       "    <tr>\n",
       "      <th>2</th>\n",
       "      <td>[FURN_9666] Table</td>\n",
       "      <td>WH/MO/02264</td>\n",
       "      <td>Department 4</td>\n",
       "      <td>2024-01-06 01:00:00</td>\n",
       "      <td>2024-02-06 01:00:00</td>\n",
       "      <td>2024-03-29 01:00:00</td>\n",
       "      <td>None</td>\n",
       "      <td>19.0</td>\n",
       "      <td>19.0</td>\n",
       "      <td>19.0</td>\n",
       "      <td>290.0</td>\n",
       "      <td>520.0</td>\n",
       "    </tr>\n",
       "    <tr>\n",
       "      <th>3</th>\n",
       "      <td>[FURN_7023] Wood Panel</td>\n",
       "      <td>WH/MO/03734</td>\n",
       "      <td>Department 2</td>\n",
       "      <td>2024-01-06 01:00:00</td>\n",
       "      <td>2024-02-17 01:00:00</td>\n",
       "      <td>2024-03-20 01:00:00</td>\n",
       "      <td>None</td>\n",
       "      <td>10.0</td>\n",
       "      <td>10.0</td>\n",
       "      <td>10.0</td>\n",
       "      <td>80.0</td>\n",
       "      <td>100.0</td>\n",
       "    </tr>\n",
       "    <tr>\n",
       "      <th>4</th>\n",
       "      <td>[FURN_7023] Wood Panel</td>\n",
       "      <td>WH/MO/03614</td>\n",
       "      <td>Department 2</td>\n",
       "      <td>2024-01-07 01:00:00</td>\n",
       "      <td>2024-02-03 01:00:00</td>\n",
       "      <td>2024-03-11 01:00:00</td>\n",
       "      <td>None</td>\n",
       "      <td>15.0</td>\n",
       "      <td>15.0</td>\n",
       "      <td>15.0</td>\n",
       "      <td>80.0</td>\n",
       "      <td>100.0</td>\n",
       "    </tr>\n",
       "  </tbody>\n",
       "</table>\n",
       "</div>"
      ],
      "text/plain": [
       "                  Product    Reference   Responsible               Start  \\\n",
       "0      [FURN_8855] Drawer  WH/MO/01679  Department 1 2024-01-03 01:00:00   \n",
       "1   [FURN_8522] Table Top  WH/MO/07299  Department 3 2024-01-03 01:00:00   \n",
       "2       [FURN_9666] Table  WH/MO/02264  Department 4 2024-01-06 01:00:00   \n",
       "3  [FURN_7023] Wood Panel  WH/MO/03734  Department 2 2024-01-06 01:00:00   \n",
       "4  [FURN_7023] Wood Panel  WH/MO/03614  Department 2 2024-01-07 01:00:00   \n",
       "\n",
       "                  End            Deadline      State  Quantity Producing  \\\n",
       "0 2024-02-19 01:00:00 2024-01-25 01:00:00  Cancelled                12.0   \n",
       "1 2024-02-27 01:00:00 2024-01-22 01:00:00  Cancelled                 4.0   \n",
       "2 2024-02-06 01:00:00 2024-03-29 01:00:00       None                19.0   \n",
       "3 2024-02-17 01:00:00 2024-03-20 01:00:00       None                10.0   \n",
       "4 2024-02-03 01:00:00 2024-03-11 01:00:00       None                15.0   \n",
       "\n",
       "   Quantity To Produce  Total Quantity  Product/Cost  Product/Sales Price  \n",
       "0                 17.0            17.0         100.0                110.5  \n",
       "1                 13.0            13.0         240.0                380.0  \n",
       "2                 19.0            19.0         290.0                520.0  \n",
       "3                 10.0            10.0          80.0                100.0  \n",
       "4                 15.0            15.0          80.0                100.0  "
      ]
     },
     "metadata": {},
     "output_type": "display_data"
    }
   ],
   "source": [
    "# Change values in responsible column\n",
    "df = df.withColumn(\"Responsible\", \n",
    "                  F.when(F.col(\"Responsible\") == \"OdooBot\", \"Department 1\")\n",
    "                   .when(F.col(\"Responsible\") == \"Mitchell Admin\", \"Department 2\")\n",
    "                   .when(F.col(\"Responsible\") == \"Default User Template\", \"Department 3\")\n",
    "                   .when(F.col(\"Responsible\") == \"Public user\", \"Department 4\")\n",
    "                   .when(F.col(\"Responsible\") == \"Portal User Template\", \"Department 5\")\n",
    "                   .otherwise(F.col(\"Responsible\"))  # Keep original value for other cases\n",
    "                  )\n",
    "# Display sample data\n",
    "display(df.limit(5).toPandas())"
   ]
  },
  {
   "cell_type": "code",
   "execution_count": 49,
   "id": "data-cleaning-cell",
   "metadata": {},
   "outputs": [
    {
     "name": "stdout",
     "output_type": "stream",
     "text": [
      "Cleaned row count: 1734\n"
     ]
    },
    {
     "data": {
      "application/vnd.microsoft.datawrangler.viewer.v0+json": {
       "columns": [
        {
         "name": "index",
         "rawType": "int64",
         "type": "integer"
        },
        {
         "name": "Product",
         "rawType": "object",
         "type": "string"
        },
        {
         "name": "Reference",
         "rawType": "object",
         "type": "string"
        },
        {
         "name": "Responsible",
         "rawType": "object",
         "type": "string"
        },
        {
         "name": "Start",
         "rawType": "datetime64[ns]",
         "type": "datetime"
        },
        {
         "name": "End",
         "rawType": "datetime64[ns]",
         "type": "datetime"
        },
        {
         "name": "Deadline",
         "rawType": "datetime64[ns]",
         "type": "datetime"
        },
        {
         "name": "State",
         "rawType": "object",
         "type": "string"
        },
        {
         "name": "Quantity Producing",
         "rawType": "float64",
         "type": "float"
        },
        {
         "name": "Quantity To Produce",
         "rawType": "float64",
         "type": "float"
        },
        {
         "name": "Total Quantity",
         "rawType": "float64",
         "type": "float"
        },
        {
         "name": "Product/Cost",
         "rawType": "float64",
         "type": "float"
        },
        {
         "name": "Product/Sales Price",
         "rawType": "float64",
         "type": "float"
        }
       ],
       "conversionMethod": "pd.DataFrame",
       "ref": "1eb883c0-1d6d-4700-9cfb-4333dfcbd839",
       "rows": [
        [
         "0",
         "[FURN_8855] Drawer",
         "WH/MO/01679",
         "Department 1",
         "2024-01-03 01:00:00",
         "2024-02-19 01:00:00",
         "2024-01-25 01:00:00",
         "Cancelled",
         "12.0",
         "17.0",
         "17.0",
         "100.0",
         "110.5"
        ],
        [
         "1",
         "[FURN_8522] Table Top",
         "WH/MO/07299",
         "Department 3",
         "2024-01-03 01:00:00",
         "2024-02-27 01:00:00",
         "2024-01-22 01:00:00",
         "Cancelled",
         "4.0",
         "13.0",
         "13.0",
         "240.0",
         "380.0"
        ],
        [
         "2",
         "[FURN_9666] Table",
         "WH/MO/02264",
         "Department 4",
         "2024-01-06 01:00:00",
         "2024-02-06 01:00:00",
         "2024-03-29 01:00:00",
         "Unknown",
         "19.0",
         "19.0",
         "19.0",
         "290.0",
         "520.0"
        ],
        [
         "3",
         "[FURN_7023] Wood Panel",
         "WH/MO/03734",
         "Department 2",
         "2024-01-06 01:00:00",
         "2024-02-17 01:00:00",
         "2024-03-20 01:00:00",
         "Unknown",
         "10.0",
         "10.0",
         "10.0",
         "80.0",
         "100.0"
        ],
        [
         "4",
         "[FURN_7023] Wood Panel",
         "WH/MO/03614",
         "Department 2",
         "2024-01-07 01:00:00",
         "2024-02-03 01:00:00",
         "2024-03-11 01:00:00",
         "Unknown",
         "15.0",
         "15.0",
         "15.0",
         "80.0",
         "100.0"
        ]
       ],
       "shape": {
        "columns": 12,
        "rows": 5
       }
      },
      "text/html": [
       "<div>\n",
       "<style scoped>\n",
       "    .dataframe tbody tr th:only-of-type {\n",
       "        vertical-align: middle;\n",
       "    }\n",
       "\n",
       "    .dataframe tbody tr th {\n",
       "        vertical-align: top;\n",
       "    }\n",
       "\n",
       "    .dataframe thead th {\n",
       "        text-align: right;\n",
       "    }\n",
       "</style>\n",
       "<table border=\"1\" class=\"dataframe\">\n",
       "  <thead>\n",
       "    <tr style=\"text-align: right;\">\n",
       "      <th></th>\n",
       "      <th>Product</th>\n",
       "      <th>Reference</th>\n",
       "      <th>Responsible</th>\n",
       "      <th>Start</th>\n",
       "      <th>End</th>\n",
       "      <th>Deadline</th>\n",
       "      <th>State</th>\n",
       "      <th>Quantity Producing</th>\n",
       "      <th>Quantity To Produce</th>\n",
       "      <th>Total Quantity</th>\n",
       "      <th>Product/Cost</th>\n",
       "      <th>Product/Sales Price</th>\n",
       "    </tr>\n",
       "  </thead>\n",
       "  <tbody>\n",
       "    <tr>\n",
       "      <th>0</th>\n",
       "      <td>[FURN_8855] Drawer</td>\n",
       "      <td>WH/MO/01679</td>\n",
       "      <td>Department 1</td>\n",
       "      <td>2024-01-03 01:00:00</td>\n",
       "      <td>2024-02-19 01:00:00</td>\n",
       "      <td>2024-01-25 01:00:00</td>\n",
       "      <td>Cancelled</td>\n",
       "      <td>12.0</td>\n",
       "      <td>17.0</td>\n",
       "      <td>17.0</td>\n",
       "      <td>100.0</td>\n",
       "      <td>110.5</td>\n",
       "    </tr>\n",
       "    <tr>\n",
       "      <th>1</th>\n",
       "      <td>[FURN_8522] Table Top</td>\n",
       "      <td>WH/MO/07299</td>\n",
       "      <td>Department 3</td>\n",
       "      <td>2024-01-03 01:00:00</td>\n",
       "      <td>2024-02-27 01:00:00</td>\n",
       "      <td>2024-01-22 01:00:00</td>\n",
       "      <td>Cancelled</td>\n",
       "      <td>4.0</td>\n",
       "      <td>13.0</td>\n",
       "      <td>13.0</td>\n",
       "      <td>240.0</td>\n",
       "      <td>380.0</td>\n",
       "    </tr>\n",
       "    <tr>\n",
       "      <th>2</th>\n",
       "      <td>[FURN_9666] Table</td>\n",
       "      <td>WH/MO/02264</td>\n",
       "      <td>Department 4</td>\n",
       "      <td>2024-01-06 01:00:00</td>\n",
       "      <td>2024-02-06 01:00:00</td>\n",
       "      <td>2024-03-29 01:00:00</td>\n",
       "      <td>Unknown</td>\n",
       "      <td>19.0</td>\n",
       "      <td>19.0</td>\n",
       "      <td>19.0</td>\n",
       "      <td>290.0</td>\n",
       "      <td>520.0</td>\n",
       "    </tr>\n",
       "    <tr>\n",
       "      <th>3</th>\n",
       "      <td>[FURN_7023] Wood Panel</td>\n",
       "      <td>WH/MO/03734</td>\n",
       "      <td>Department 2</td>\n",
       "      <td>2024-01-06 01:00:00</td>\n",
       "      <td>2024-02-17 01:00:00</td>\n",
       "      <td>2024-03-20 01:00:00</td>\n",
       "      <td>Unknown</td>\n",
       "      <td>10.0</td>\n",
       "      <td>10.0</td>\n",
       "      <td>10.0</td>\n",
       "      <td>80.0</td>\n",
       "      <td>100.0</td>\n",
       "    </tr>\n",
       "    <tr>\n",
       "      <th>4</th>\n",
       "      <td>[FURN_7023] Wood Panel</td>\n",
       "      <td>WH/MO/03614</td>\n",
       "      <td>Department 2</td>\n",
       "      <td>2024-01-07 01:00:00</td>\n",
       "      <td>2024-02-03 01:00:00</td>\n",
       "      <td>2024-03-11 01:00:00</td>\n",
       "      <td>Unknown</td>\n",
       "      <td>15.0</td>\n",
       "      <td>15.0</td>\n",
       "      <td>15.0</td>\n",
       "      <td>80.0</td>\n",
       "      <td>100.0</td>\n",
       "    </tr>\n",
       "  </tbody>\n",
       "</table>\n",
       "</div>"
      ],
      "text/plain": [
       "                  Product    Reference   Responsible               Start  \\\n",
       "0      [FURN_8855] Drawer  WH/MO/01679  Department 1 2024-01-03 01:00:00   \n",
       "1   [FURN_8522] Table Top  WH/MO/07299  Department 3 2024-01-03 01:00:00   \n",
       "2       [FURN_9666] Table  WH/MO/02264  Department 4 2024-01-06 01:00:00   \n",
       "3  [FURN_7023] Wood Panel  WH/MO/03734  Department 2 2024-01-06 01:00:00   \n",
       "4  [FURN_7023] Wood Panel  WH/MO/03614  Department 2 2024-01-07 01:00:00   \n",
       "\n",
       "                  End            Deadline      State  Quantity Producing  \\\n",
       "0 2024-02-19 01:00:00 2024-01-25 01:00:00  Cancelled                12.0   \n",
       "1 2024-02-27 01:00:00 2024-01-22 01:00:00  Cancelled                 4.0   \n",
       "2 2024-02-06 01:00:00 2024-03-29 01:00:00    Unknown                19.0   \n",
       "3 2024-02-17 01:00:00 2024-03-20 01:00:00    Unknown                10.0   \n",
       "4 2024-02-03 01:00:00 2024-03-11 01:00:00    Unknown                15.0   \n",
       "\n",
       "   Quantity To Produce  Total Quantity  Product/Cost  Product/Sales Price  \n",
       "0                 17.0            17.0         100.0                110.5  \n",
       "1                 13.0            13.0         240.0                380.0  \n",
       "2                 19.0            19.0         290.0                520.0  \n",
       "3                 10.0            10.0          80.0                100.0  \n",
       "4                 15.0            15.0          80.0                100.0  "
      ]
     },
     "metadata": {},
     "output_type": "display_data"
    }
   ],
   "source": [
    "# Handle missing values\n",
    "df_cleaned = df.na.fill({\n",
    "    \"State\": \"Unknown\",\n",
    "    \"Quantity Producing\": 0,\n",
    "    \"Quantity To Produce\": 0,\n",
    "    \"Total Quantity\": 0,\n",
    "    \"Product/Cost\": 0,\n",
    "    \"Product/Sales Price\": 0\n",
    "})\n",
    "\n",
    "# Verify the missing values have been filled\n",
    "for column in df_cleaned.columns:\n",
    "    null_count = df_cleaned.filter(F.col(column).isNull()).count()\n",
    "    if null_count > 0:\n",
    "        print(f\"{column}: {null_count} null values remaining\")\n",
    "    \n",
    "# Display the cleaned data\n",
    "print(f\"Cleaned row count: {df_cleaned.count()}\")\n",
    "display(df_cleaned.limit(5).toPandas())"
   ]
  },
  {
   "cell_type": "markdown",
   "id": "f772e559",
   "metadata": {},
   "source": [
    "### 4.3 Standardize Column Names\n",
    "\n",
    "Rename columns with spaces and special characters to use underscores for easier handling."
   ]
  },
  {
   "cell_type": "code",
   "execution_count": 50,
   "id": "column-standardization-cell",
   "metadata": {},
   "outputs": [
    {
     "name": "stdout",
     "output_type": "stream",
     "text": [
      "Column names after standardization:\n",
      "- Product\n",
      "- Reference\n",
      "- Responsible\n",
      "- Start\n",
      "- End\n",
      "- Deadline\n",
      "- State\n",
      "- Quantity_Producing\n",
      "- Quantity_To_Produce\n",
      "- Total_Quantity\n",
      "- Product_Cost\n",
      "- Product_Sales_Price\n"
     ]
    },
    {
     "data": {
      "application/vnd.microsoft.datawrangler.viewer.v0+json": {
       "columns": [
        {
         "name": "index",
         "rawType": "int64",
         "type": "integer"
        },
        {
         "name": "Reference",
         "rawType": "object",
         "type": "string"
        },
        {
         "name": "Total_Quantity",
         "rawType": "float64",
         "type": "float"
        },
        {
         "name": "Product_Cost",
         "rawType": "float64",
         "type": "float"
        },
        {
         "name": "Product_Sales_Price",
         "rawType": "float64",
         "type": "float"
        }
       ],
       "conversionMethod": "pd.DataFrame",
       "ref": "d1bef314-80b4-4512-9cff-64ce714a5ed7",
       "rows": [
        [
         "0",
         "WH/MO/01679",
         "17.0",
         "100.0",
         "110.5"
        ],
        [
         "1",
         "WH/MO/07299",
         "13.0",
         "240.0",
         "380.0"
        ],
        [
         "2",
         "WH/MO/02264",
         "19.0",
         "290.0",
         "520.0"
        ],
        [
         "3",
         "WH/MO/03734",
         "10.0",
         "80.0",
         "100.0"
        ],
        [
         "4",
         "WH/MO/03614",
         "15.0",
         "80.0",
         "100.0"
        ]
       ],
       "shape": {
        "columns": 4,
        "rows": 5
       }
      },
      "text/html": [
       "<div>\n",
       "<style scoped>\n",
       "    .dataframe tbody tr th:only-of-type {\n",
       "        vertical-align: middle;\n",
       "    }\n",
       "\n",
       "    .dataframe tbody tr th {\n",
       "        vertical-align: top;\n",
       "    }\n",
       "\n",
       "    .dataframe thead th {\n",
       "        text-align: right;\n",
       "    }\n",
       "</style>\n",
       "<table border=\"1\" class=\"dataframe\">\n",
       "  <thead>\n",
       "    <tr style=\"text-align: right;\">\n",
       "      <th></th>\n",
       "      <th>Reference</th>\n",
       "      <th>Total_Quantity</th>\n",
       "      <th>Product_Cost</th>\n",
       "      <th>Product_Sales_Price</th>\n",
       "    </tr>\n",
       "  </thead>\n",
       "  <tbody>\n",
       "    <tr>\n",
       "      <th>0</th>\n",
       "      <td>WH/MO/01679</td>\n",
       "      <td>17.0</td>\n",
       "      <td>100.0</td>\n",
       "      <td>110.5</td>\n",
       "    </tr>\n",
       "    <tr>\n",
       "      <th>1</th>\n",
       "      <td>WH/MO/07299</td>\n",
       "      <td>13.0</td>\n",
       "      <td>240.0</td>\n",
       "      <td>380.0</td>\n",
       "    </tr>\n",
       "    <tr>\n",
       "      <th>2</th>\n",
       "      <td>WH/MO/02264</td>\n",
       "      <td>19.0</td>\n",
       "      <td>290.0</td>\n",
       "      <td>520.0</td>\n",
       "    </tr>\n",
       "    <tr>\n",
       "      <th>3</th>\n",
       "      <td>WH/MO/03734</td>\n",
       "      <td>10.0</td>\n",
       "      <td>80.0</td>\n",
       "      <td>100.0</td>\n",
       "    </tr>\n",
       "    <tr>\n",
       "      <th>4</th>\n",
       "      <td>WH/MO/03614</td>\n",
       "      <td>15.0</td>\n",
       "      <td>80.0</td>\n",
       "      <td>100.0</td>\n",
       "    </tr>\n",
       "  </tbody>\n",
       "</table>\n",
       "</div>"
      ],
      "text/plain": [
       "     Reference  Total_Quantity  Product_Cost  Product_Sales_Price\n",
       "0  WH/MO/01679            17.0         100.0                110.5\n",
       "1  WH/MO/07299            13.0         240.0                380.0\n",
       "2  WH/MO/02264            19.0         290.0                520.0\n",
       "3  WH/MO/03734            10.0          80.0                100.0\n",
       "4  WH/MO/03614            15.0          80.0                100.0"
      ]
     },
     "metadata": {},
     "output_type": "display_data"
    }
   ],
   "source": [
    "# Rename columns with spaces to use underscores for easier handling\n",
    "try:\n",
    "    # Create a list of column renames\n",
    "    column_renames = [\n",
    "        (\"Total Quantity\", \"Total_Quantity\"),\n",
    "        (\"Quantity Producing\", \"Quantity_Producing\"),\n",
    "        (\"Quantity To Produce\", \"Quantity_To_Produce\"),\n",
    "        (\"Product/Cost\", \"Product_Cost\"),\n",
    "        (\"Product/Sales Price\", \"Product_Sales_Price\")\n",
    "    ]\n",
    "    \n",
    "    # Apply the renames\n",
    "    df_standardized = df_cleaned\n",
    "    for old_name, new_name in column_renames:\n",
    "        if old_name in df_standardized.columns:\n",
    "            df_standardized = df_standardized.withColumnRenamed(old_name, new_name)\n",
    "    \n",
    "    # Verify the column names after renaming\n",
    "    print(\"Column names after standardization:\")\n",
    "    for col_name in df_standardized.columns:\n",
    "        print(f\"- {col_name}\")\n",
    "    \n",
    "    # Display sample data after renaming\n",
    "    display(df_standardized.select(\"Reference\", \"Total_Quantity\", \"Product_Cost\", \"Product_Sales_Price\").limit(5).toPandas())\n",
    "    \n",
    "    # Use the standardized dataframe for further processing\n",
    "    df_cleaned = df_standardized\n",
    "except Exception as e:\n",
    "    log_message(f\"Error standardizing column names: {str(e)}\", level=\"error\")\n",
    "    import traceback\n",
    "    log_message(traceback.format_exc(), level=\"error\")\n",
    "    # Continue with original column names if there's an error\n",
    "    pass\n",
    "    "
   ]
  },
  {
   "cell_type": "markdown",
   "id": "feature-engineering-header",
   "metadata": {},
   "source": [
    "## 5. Feature Engineering\n",
    "\n",
    "Extract additional features from the data and calculate derived metrics."
   ]
  },
  {
   "cell_type": "code",
   "execution_count": 51,
   "id": "feature-engineering-cell",
   "metadata": {},
   "outputs": [
    {
     "data": {
      "application/vnd.microsoft.datawrangler.viewer.v0+json": {
       "columns": [
        {
         "name": "index",
         "rawType": "int64",
         "type": "integer"
        },
        {
         "name": "Product",
         "rawType": "object",
         "type": "string"
        },
        {
         "name": "Product_Code",
         "rawType": "object",
         "type": "string"
        },
        {
         "name": "Product_Name",
         "rawType": "object",
         "type": "string"
        },
        {
         "name": "Production_Efficiency",
         "rawType": "float64",
         "type": "float"
        },
        {
         "name": "Profit_Margin_Percent",
         "rawType": "float64",
         "type": "float"
        }
       ],
       "conversionMethod": "pd.DataFrame",
       "ref": "4cf45bd2-842b-40ee-9e74-42490872f5bc",
       "rows": [
        [
         "0",
         "[FURN_8855] Drawer",
         "FURN_8855",
         "Drawer",
         "70.59",
         "10.5"
        ],
        [
         "1",
         "[FURN_8522] Table Top",
         "FURN_8522",
         "Table Top",
         "30.77",
         "58.33"
        ],
        [
         "2",
         "[FURN_9666] Table",
         "FURN_9666",
         "Table",
         "100.0",
         "79.31"
        ],
        [
         "3",
         "[FURN_7023] Wood Panel",
         "FURN_7023",
         "Wood Panel",
         "100.0",
         "25.0"
        ],
        [
         "4",
         "[FURN_7023] Wood Panel",
         "FURN_7023",
         "Wood Panel",
         "100.0",
         "25.0"
        ]
       ],
       "shape": {
        "columns": 5,
        "rows": 5
       }
      },
      "text/html": [
       "<div>\n",
       "<style scoped>\n",
       "    .dataframe tbody tr th:only-of-type {\n",
       "        vertical-align: middle;\n",
       "    }\n",
       "\n",
       "    .dataframe tbody tr th {\n",
       "        vertical-align: top;\n",
       "    }\n",
       "\n",
       "    .dataframe thead th {\n",
       "        text-align: right;\n",
       "    }\n",
       "</style>\n",
       "<table border=\"1\" class=\"dataframe\">\n",
       "  <thead>\n",
       "    <tr style=\"text-align: right;\">\n",
       "      <th></th>\n",
       "      <th>Product</th>\n",
       "      <th>Product_Code</th>\n",
       "      <th>Product_Name</th>\n",
       "      <th>Production_Efficiency</th>\n",
       "      <th>Profit_Margin_Percent</th>\n",
       "    </tr>\n",
       "  </thead>\n",
       "  <tbody>\n",
       "    <tr>\n",
       "      <th>0</th>\n",
       "      <td>[FURN_8855] Drawer</td>\n",
       "      <td>FURN_8855</td>\n",
       "      <td>Drawer</td>\n",
       "      <td>70.59</td>\n",
       "      <td>10.50</td>\n",
       "    </tr>\n",
       "    <tr>\n",
       "      <th>1</th>\n",
       "      <td>[FURN_8522] Table Top</td>\n",
       "      <td>FURN_8522</td>\n",
       "      <td>Table Top</td>\n",
       "      <td>30.77</td>\n",
       "      <td>58.33</td>\n",
       "    </tr>\n",
       "    <tr>\n",
       "      <th>2</th>\n",
       "      <td>[FURN_9666] Table</td>\n",
       "      <td>FURN_9666</td>\n",
       "      <td>Table</td>\n",
       "      <td>100.00</td>\n",
       "      <td>79.31</td>\n",
       "    </tr>\n",
       "    <tr>\n",
       "      <th>3</th>\n",
       "      <td>[FURN_7023] Wood Panel</td>\n",
       "      <td>FURN_7023</td>\n",
       "      <td>Wood Panel</td>\n",
       "      <td>100.00</td>\n",
       "      <td>25.00</td>\n",
       "    </tr>\n",
       "    <tr>\n",
       "      <th>4</th>\n",
       "      <td>[FURN_7023] Wood Panel</td>\n",
       "      <td>FURN_7023</td>\n",
       "      <td>Wood Panel</td>\n",
       "      <td>100.00</td>\n",
       "      <td>25.00</td>\n",
       "    </tr>\n",
       "  </tbody>\n",
       "</table>\n",
       "</div>"
      ],
      "text/plain": [
       "                  Product Product_Code Product_Name  Production_Efficiency  \\\n",
       "0      [FURN_8855] Drawer    FURN_8855       Drawer                  70.59   \n",
       "1   [FURN_8522] Table Top    FURN_8522    Table Top                  30.77   \n",
       "2       [FURN_9666] Table    FURN_9666        Table                 100.00   \n",
       "3  [FURN_7023] Wood Panel    FURN_7023   Wood Panel                 100.00   \n",
       "4  [FURN_7023] Wood Panel    FURN_7023   Wood Panel                 100.00   \n",
       "\n",
       "   Profit_Margin_Percent  \n",
       "0                  10.50  \n",
       "1                  58.33  \n",
       "2                  79.31  \n",
       "3                  25.00  \n",
       "4                  25.00  "
      ]
     },
     "metadata": {},
     "output_type": "display_data"
    }
   ],
   "source": [
    "# Extract product code and name from Product column\n",
    "# Format is typically [CODE] Name\n",
    "df_transformed = df_cleaned.withColumn(\n",
    "    \"Product_Code\", \n",
    "    F.regexp_extract(F.col(\"Product\"), \"\\\\[(.*?)\\\\]\", 1)\n",
    ")\n",
    "\n",
    "df_transformed = df_transformed.withColumn(\n",
    "    \"Product_Name\", \n",
    "    F.regexp_replace(F.col(\"Product\"), \"\\\\[.*?\\\\]\\\\s*\", \"\")\n",
    ")\n",
    "\n",
    "# Calculate production efficiency (Quantity_Producing / Quantity_To_Produce)\n",
    "# Use standardized column names if available, otherwise use original names\n",
    "quantity_producing_col = \"Quantity_Producing\" if \"Quantity_Producing\" in df_transformed.columns else \"Quantity Producing\"\n",
    "quantity_to_produce_col = \"Quantity_To_Produce\" if \"Quantity_To_Produce\" in df_transformed.columns else \"Quantity To Produce\"\n",
    "\n",
    "df_transformed = df_transformed.withColumn(\n",
    "    \"Production_Efficiency\",\n",
    "    F.when(F.col(quantity_to_produce_col) > 0, \n",
    "           F.round(F.col(quantity_producing_col) / F.col(quantity_to_produce_col) * 100, 2))\n",
    "    .otherwise(0)\n",
    ")\n",
    "\n",
    "# Calculate profit margin ((Sales Price - Cost) / Cost) * 100\n",
    "# Use standardized column names if available, otherwise use original names\n",
    "product_cost_col = \"Product_Cost\" if \"Product_Cost\" in df_transformed.columns else \"Product/Cost\"\n",
    "product_sales_price_col = \"Product_Sales_Price\" if \"Product_Sales_Price\" in df_transformed.columns else \"Product/Sales Price\"\n",
    "\n",
    "df_transformed = df_transformed.withColumn(\n",
    "    \"Profit_Margin_Percent\",\n",
    "    F.when(F.col(product_cost_col) > 0, \n",
    "           F.round(((F.col(product_sales_price_col) - F.col(product_cost_col)) / F.col(product_cost_col)) * 100, 2))\n",
    "    .otherwise(0)\n",
    ")\n",
    "\n",
    "# Display the transformed data\n",
    "display(df_transformed.select(\"Product\", \"Product_Code\", \"Product_Name\", \"Production_Efficiency\", \"Profit_Margin_Percent\").limit(5).toPandas())"
   ]
  },
  {
   "cell_type": "markdown",
   "id": "time-dimensions-header",
   "metadata": {},
   "source": [
    "## 6. Time Dimensions\n",
    "\n",
    "Extract time-related features from date fields for time-based analysis."
   ]
  },
  {
   "cell_type": "code",
   "execution_count": 52,
   "id": "time-dimensions-cell",
   "metadata": {},
   "outputs": [
    {
     "data": {
      "application/vnd.microsoft.datawrangler.viewer.v0+json": {
       "columns": [
        {
         "name": "index",
         "rawType": "int64",
         "type": "integer"
        },
        {
         "name": "Reference",
         "rawType": "object",
         "type": "string"
        },
        {
         "name": "Start",
         "rawType": "datetime64[ns]",
         "type": "datetime"
        },
        {
         "name": "End",
         "rawType": "datetime64[ns]",
         "type": "datetime"
        },
        {
         "name": "Start_Year",
         "rawType": "int32",
         "type": "integer"
        },
        {
         "name": "Start_Quarter",
         "rawType": "int32",
         "type": "integer"
        },
        {
         "name": "Start_Month_Name",
         "rawType": "object",
         "type": "string"
        },
        {
         "name": "Start_Weekday",
         "rawType": "int32",
         "type": "integer"
        },
        {
         "name": "Production_Duration_Days",
         "rawType": "int32",
         "type": "integer"
        }
       ],
       "conversionMethod": "pd.DataFrame",
       "ref": "2f6adfe2-48c6-4fbc-8dc1-8208c2f38aff",
       "rows": [
        [
         "0",
         "WH/MO/01679",
         "2024-01-03 01:00:00",
         "2024-02-19 01:00:00",
         "2024",
         "1",
         "January",
         "4",
         "47"
        ],
        [
         "1",
         "WH/MO/07299",
         "2024-01-03 01:00:00",
         "2024-02-27 01:00:00",
         "2024",
         "1",
         "January",
         "4",
         "55"
        ],
        [
         "2",
         "WH/MO/02264",
         "2024-01-06 01:00:00",
         "2024-02-06 01:00:00",
         "2024",
         "1",
         "January",
         "7",
         "31"
        ],
        [
         "3",
         "WH/MO/03734",
         "2024-01-06 01:00:00",
         "2024-02-17 01:00:00",
         "2024",
         "1",
         "January",
         "7",
         "42"
        ],
        [
         "4",
         "WH/MO/03614",
         "2024-01-07 01:00:00",
         "2024-02-03 01:00:00",
         "2024",
         "1",
         "January",
         "1",
         "27"
        ]
       ],
       "shape": {
        "columns": 8,
        "rows": 5
       }
      },
      "text/html": [
       "<div>\n",
       "<style scoped>\n",
       "    .dataframe tbody tr th:only-of-type {\n",
       "        vertical-align: middle;\n",
       "    }\n",
       "\n",
       "    .dataframe tbody tr th {\n",
       "        vertical-align: top;\n",
       "    }\n",
       "\n",
       "    .dataframe thead th {\n",
       "        text-align: right;\n",
       "    }\n",
       "</style>\n",
       "<table border=\"1\" class=\"dataframe\">\n",
       "  <thead>\n",
       "    <tr style=\"text-align: right;\">\n",
       "      <th></th>\n",
       "      <th>Reference</th>\n",
       "      <th>Start</th>\n",
       "      <th>End</th>\n",
       "      <th>Start_Year</th>\n",
       "      <th>Start_Quarter</th>\n",
       "      <th>Start_Month_Name</th>\n",
       "      <th>Start_Weekday</th>\n",
       "      <th>Production_Duration_Days</th>\n",
       "    </tr>\n",
       "  </thead>\n",
       "  <tbody>\n",
       "    <tr>\n",
       "      <th>0</th>\n",
       "      <td>WH/MO/01679</td>\n",
       "      <td>2024-01-03 01:00:00</td>\n",
       "      <td>2024-02-19 01:00:00</td>\n",
       "      <td>2024</td>\n",
       "      <td>1</td>\n",
       "      <td>January</td>\n",
       "      <td>4</td>\n",
       "      <td>47</td>\n",
       "    </tr>\n",
       "    <tr>\n",
       "      <th>1</th>\n",
       "      <td>WH/MO/07299</td>\n",
       "      <td>2024-01-03 01:00:00</td>\n",
       "      <td>2024-02-27 01:00:00</td>\n",
       "      <td>2024</td>\n",
       "      <td>1</td>\n",
       "      <td>January</td>\n",
       "      <td>4</td>\n",
       "      <td>55</td>\n",
       "    </tr>\n",
       "    <tr>\n",
       "      <th>2</th>\n",
       "      <td>WH/MO/02264</td>\n",
       "      <td>2024-01-06 01:00:00</td>\n",
       "      <td>2024-02-06 01:00:00</td>\n",
       "      <td>2024</td>\n",
       "      <td>1</td>\n",
       "      <td>January</td>\n",
       "      <td>7</td>\n",
       "      <td>31</td>\n",
       "    </tr>\n",
       "    <tr>\n",
       "      <th>3</th>\n",
       "      <td>WH/MO/03734</td>\n",
       "      <td>2024-01-06 01:00:00</td>\n",
       "      <td>2024-02-17 01:00:00</td>\n",
       "      <td>2024</td>\n",
       "      <td>1</td>\n",
       "      <td>January</td>\n",
       "      <td>7</td>\n",
       "      <td>42</td>\n",
       "    </tr>\n",
       "    <tr>\n",
       "      <th>4</th>\n",
       "      <td>WH/MO/03614</td>\n",
       "      <td>2024-01-07 01:00:00</td>\n",
       "      <td>2024-02-03 01:00:00</td>\n",
       "      <td>2024</td>\n",
       "      <td>1</td>\n",
       "      <td>January</td>\n",
       "      <td>1</td>\n",
       "      <td>27</td>\n",
       "    </tr>\n",
       "  </tbody>\n",
       "</table>\n",
       "</div>"
      ],
      "text/plain": [
       "     Reference               Start                 End  Start_Year  \\\n",
       "0  WH/MO/01679 2024-01-03 01:00:00 2024-02-19 01:00:00        2024   \n",
       "1  WH/MO/07299 2024-01-03 01:00:00 2024-02-27 01:00:00        2024   \n",
       "2  WH/MO/02264 2024-01-06 01:00:00 2024-02-06 01:00:00        2024   \n",
       "3  WH/MO/03734 2024-01-06 01:00:00 2024-02-17 01:00:00        2024   \n",
       "4  WH/MO/03614 2024-01-07 01:00:00 2024-02-03 01:00:00        2024   \n",
       "\n",
       "   Start_Quarter Start_Month_Name  Start_Weekday  Production_Duration_Days  \n",
       "0              1          January              4                        47  \n",
       "1              1          January              4                        55  \n",
       "2              1          January              7                        31  \n",
       "3              1          January              7                        42  \n",
       "4              1          January              1                        27  "
      ]
     },
     "metadata": {},
     "output_type": "display_data"
    }
   ],
   "source": [
    "# Add time dimensions for better analysis\n",
    "\n",
    "# Add year, month, day, weekday for Start date\n",
    "df_transformed = df_transformed.withColumn(\"Start_Year\", F.year(F.col(\"Start\")))\n",
    "df_transformed = df_transformed.withColumn(\"Start_Month\", F.month(F.col(\"Start\")))\n",
    "df_transformed = df_transformed.withColumn(\"Start_Day\", F.dayofmonth(F.col(\"Start\")))\n",
    "df_transformed = df_transformed.withColumn(\"Start_Weekday\", F.dayofweek(F.col(\"Start\")))\n",
    "\n",
    "# Add quarter and month name for better reporting\n",
    "df_transformed = df_transformed.withColumn(\"Start_Quarter\", F.quarter(F.col(\"Start\")))\n",
    "df_transformed = df_transformed.withColumn(\"Start_Month_Name\", \n",
    "                                          F.date_format(F.col(\"Start\"), \"MMMM\"))\n",
    "\n",
    "# Calculate production duration in days\n",
    "df_transformed = df_transformed.withColumn(\n",
    "    \"Production_Duration_Days\",\n",
    "    F.when(F.col(\"End\").isNotNull() & F.col(\"Start\").isNotNull(),\n",
    "           F.datediff(F.col(\"End\"), F.col(\"Start\")))\n",
    "    .otherwise(0)\n",
    ")\n",
    "\n",
    "# Display the time dimensions\n",
    "display(df_transformed.select(\n",
    "    \"Reference\", \"Start\", \"End\", \"Start_Year\", \"Start_Quarter\", \"Start_Month_Name\", \n",
    "    \"Start_Weekday\", \"Production_Duration_Days\"\n",
    ").limit(5).toPandas())"
   ]
  },
  {
   "cell_type": "markdown",
   "id": "categorization-header",
   "metadata": {},
   "source": [
    "## 7. Product Categorization\n",
    "\n",
    "Categorize products based on name, price range, and profit margin."
   ]
  },
  {
   "cell_type": "code",
   "execution_count": 53,
   "id": "categorize-products-cell",
   "metadata": {},
   "outputs": [
    {
     "data": {
      "application/vnd.microsoft.datawrangler.viewer.v0+json": {
       "columns": [
        {
         "name": "index",
         "rawType": "int64",
         "type": "integer"
        },
        {
         "name": "Product_Name",
         "rawType": "object",
         "type": "string"
        },
        {
         "name": "Product_Category",
         "rawType": "object",
         "type": "string"
        },
        {
         "name": "Product_Sales_Price",
         "rawType": "float64",
         "type": "float"
        },
        {
         "name": "Price_Category",
         "rawType": "object",
         "type": "string"
        },
        {
         "name": "Profit_Margin_Percent",
         "rawType": "float64",
         "type": "float"
        },
        {
         "name": "Margin_Category",
         "rawType": "object",
         "type": "string"
        }
       ],
       "conversionMethod": "pd.DataFrame",
       "ref": "6fbf284d-7c7d-48f5-96a9-b28874d2ca9a",
       "rows": [
        [
         "0",
         "Drawer",
         "Furniture - Storage",
         "110.5",
         "Standard",
         "10.5",
         "Low Margin"
        ],
        [
         "1",
         "Table Top",
         "Furniture - Tables",
         "380.0",
         "Premium",
         "58.33",
         "High Margin"
        ],
        [
         "2",
         "Table",
         "Furniture - Tables",
         "520.0",
         "Luxury",
         "79.31",
         "High Margin"
        ],
        [
         "3",
         "Wood Panel",
         "Furniture - Components",
         "100.0",
         "Standard",
         "25.0",
         "Medium Margin"
        ],
        [
         "4",
         "Wood Panel",
         "Furniture - Components",
         "100.0",
         "Standard",
         "25.0",
         "Medium Margin"
        ],
        [
         "5",
         "Drawer",
         "Furniture - Storage",
         "110.5",
         "Standard",
         "10.5",
         "Low Margin"
        ],
        [
         "6",
         "Wood Panel",
         "Furniture - Components",
         "100.0",
         "Standard",
         "25.0",
         "Medium Margin"
        ],
        [
         "7",
         "Desk Combination",
         "Furniture - Office",
         "450.0",
         "Premium",
         "50.0",
         "High Margin"
        ],
        [
         "8",
         "Table Top",
         "Furniture - Tables",
         "380.0",
         "Premium",
         "58.33",
         "High Margin"
        ],
        [
         "9",
         "Wood Panel",
         "Furniture - Components",
         "100.0",
         "Standard",
         "25.0",
         "Medium Margin"
        ]
       ],
       "shape": {
        "columns": 6,
        "rows": 10
       }
      },
      "text/html": [
       "<div>\n",
       "<style scoped>\n",
       "    .dataframe tbody tr th:only-of-type {\n",
       "        vertical-align: middle;\n",
       "    }\n",
       "\n",
       "    .dataframe tbody tr th {\n",
       "        vertical-align: top;\n",
       "    }\n",
       "\n",
       "    .dataframe thead th {\n",
       "        text-align: right;\n",
       "    }\n",
       "</style>\n",
       "<table border=\"1\" class=\"dataframe\">\n",
       "  <thead>\n",
       "    <tr style=\"text-align: right;\">\n",
       "      <th></th>\n",
       "      <th>Product_Name</th>\n",
       "      <th>Product_Category</th>\n",
       "      <th>Product_Sales_Price</th>\n",
       "      <th>Price_Category</th>\n",
       "      <th>Profit_Margin_Percent</th>\n",
       "      <th>Margin_Category</th>\n",
       "    </tr>\n",
       "  </thead>\n",
       "  <tbody>\n",
       "    <tr>\n",
       "      <th>0</th>\n",
       "      <td>Drawer</td>\n",
       "      <td>Furniture - Storage</td>\n",
       "      <td>110.5</td>\n",
       "      <td>Standard</td>\n",
       "      <td>10.50</td>\n",
       "      <td>Low Margin</td>\n",
       "    </tr>\n",
       "    <tr>\n",
       "      <th>1</th>\n",
       "      <td>Table Top</td>\n",
       "      <td>Furniture - Tables</td>\n",
       "      <td>380.0</td>\n",
       "      <td>Premium</td>\n",
       "      <td>58.33</td>\n",
       "      <td>High Margin</td>\n",
       "    </tr>\n",
       "    <tr>\n",
       "      <th>2</th>\n",
       "      <td>Table</td>\n",
       "      <td>Furniture - Tables</td>\n",
       "      <td>520.0</td>\n",
       "      <td>Luxury</td>\n",
       "      <td>79.31</td>\n",
       "      <td>High Margin</td>\n",
       "    </tr>\n",
       "    <tr>\n",
       "      <th>3</th>\n",
       "      <td>Wood Panel</td>\n",
       "      <td>Furniture - Components</td>\n",
       "      <td>100.0</td>\n",
       "      <td>Standard</td>\n",
       "      <td>25.00</td>\n",
       "      <td>Medium Margin</td>\n",
       "    </tr>\n",
       "    <tr>\n",
       "      <th>4</th>\n",
       "      <td>Wood Panel</td>\n",
       "      <td>Furniture - Components</td>\n",
       "      <td>100.0</td>\n",
       "      <td>Standard</td>\n",
       "      <td>25.00</td>\n",
       "      <td>Medium Margin</td>\n",
       "    </tr>\n",
       "    <tr>\n",
       "      <th>5</th>\n",
       "      <td>Drawer</td>\n",
       "      <td>Furniture - Storage</td>\n",
       "      <td>110.5</td>\n",
       "      <td>Standard</td>\n",
       "      <td>10.50</td>\n",
       "      <td>Low Margin</td>\n",
       "    </tr>\n",
       "    <tr>\n",
       "      <th>6</th>\n",
       "      <td>Wood Panel</td>\n",
       "      <td>Furniture - Components</td>\n",
       "      <td>100.0</td>\n",
       "      <td>Standard</td>\n",
       "      <td>25.00</td>\n",
       "      <td>Medium Margin</td>\n",
       "    </tr>\n",
       "    <tr>\n",
       "      <th>7</th>\n",
       "      <td>Desk Combination</td>\n",
       "      <td>Furniture - Office</td>\n",
       "      <td>450.0</td>\n",
       "      <td>Premium</td>\n",
       "      <td>50.00</td>\n",
       "      <td>High Margin</td>\n",
       "    </tr>\n",
       "    <tr>\n",
       "      <th>8</th>\n",
       "      <td>Table Top</td>\n",
       "      <td>Furniture - Tables</td>\n",
       "      <td>380.0</td>\n",
       "      <td>Premium</td>\n",
       "      <td>58.33</td>\n",
       "      <td>High Margin</td>\n",
       "    </tr>\n",
       "    <tr>\n",
       "      <th>9</th>\n",
       "      <td>Wood Panel</td>\n",
       "      <td>Furniture - Components</td>\n",
       "      <td>100.0</td>\n",
       "      <td>Standard</td>\n",
       "      <td>25.00</td>\n",
       "      <td>Medium Margin</td>\n",
       "    </tr>\n",
       "  </tbody>\n",
       "</table>\n",
       "</div>"
      ],
      "text/plain": [
       "       Product_Name        Product_Category  Product_Sales_Price  \\\n",
       "0            Drawer     Furniture - Storage                110.5   \n",
       "1         Table Top      Furniture - Tables                380.0   \n",
       "2             Table      Furniture - Tables                520.0   \n",
       "3        Wood Panel  Furniture - Components                100.0   \n",
       "4        Wood Panel  Furniture - Components                100.0   \n",
       "5            Drawer     Furniture - Storage                110.5   \n",
       "6        Wood Panel  Furniture - Components                100.0   \n",
       "7  Desk Combination      Furniture - Office                450.0   \n",
       "8         Table Top      Furniture - Tables                380.0   \n",
       "9        Wood Panel  Furniture - Components                100.0   \n",
       "\n",
       "  Price_Category  Profit_Margin_Percent Margin_Category  \n",
       "0       Standard                  10.50      Low Margin  \n",
       "1        Premium                  58.33     High Margin  \n",
       "2         Luxury                  79.31     High Margin  \n",
       "3       Standard                  25.00   Medium Margin  \n",
       "4       Standard                  25.00   Medium Margin  \n",
       "5       Standard                  10.50      Low Margin  \n",
       "6       Standard                  25.00   Medium Margin  \n",
       "7        Premium                  50.00     High Margin  \n",
       "8        Premium                  58.33     High Margin  \n",
       "9       Standard                  25.00   Medium Margin  "
      ]
     },
     "metadata": {},
     "output_type": "display_data"
    }
   ],
   "source": [
    "# Categorize products based on product name\n",
    "df_transformed = df_transformed.withColumn(\n",
    "    \"Product_Category\",\n",
    "    F.when(F.lower(F.col(\"Product_Name\")).contains(\"table\"), \"Furniture - Tables\")\n",
    "     .when(F.lower(F.col(\"Product_Name\")).contains(\"drawer\"), \"Furniture - Storage\")\n",
    "     .when(F.lower(F.col(\"Product_Name\")).contains(\"panel\"), \"Furniture - Components\")\n",
    "     .when(F.lower(F.col(\"Product_Name\")).contains(\"chair\"), \"Furniture - Seating\")\n",
    "     .when(F.lower(F.col(\"Product_Name\")).contains(\"desk\"), \"Furniture - Office\")\n",
    "     .when(F.lower(F.col(\"Product_Name\")).contains(\"shelf\"), \"Furniture - Storage\")\n",
    "     .when(F.lower(F.col(\"Product_Name\")).contains(\"cabinet\"), \"Furniture - Storage\")\n",
    "     .otherwise(\"Other\")\n",
    ")\n",
    "\n",
    "# Determine which column name to use (standardized or original)\n",
    "product_sales_price_col = \"Product_Sales_Price\" if \"Product_Sales_Price\" in df_transformed.columns else \"Product/Sales Price\"\n",
    "\n",
    "# Categorize products based on price range\n",
    "df_transformed = df_transformed.withColumn(\n",
    "    \"Price_Category\",\n",
    "    F.when(F.col(product_sales_price_col) < 100, \"Budget\")\n",
    "     .when((F.col(product_sales_price_col) >= 100) & (F.col(product_sales_price_col) < 250), \"Standard\")\n",
    "     .when((F.col(product_sales_price_col) >= 250) & (F.col(product_sales_price_col) < 500), \"Premium\")\n",
    "     .otherwise(\"Luxury\")\n",
    ")\n",
    "\n",
    "# Categorize products based on profit margin\n",
    "df_transformed = df_transformed.withColumn(\n",
    "    \"Margin_Category\",\n",
    "    F.when(F.col(\"Profit_Margin_Percent\") < 20, \"Low Margin\")\n",
    "     .when((F.col(\"Profit_Margin_Percent\") >= 20) & (F.col(\"Profit_Margin_Percent\") < 50), \"Medium Margin\")\n",
    "     .when((F.col(\"Profit_Margin_Percent\") >= 50) & (F.col(\"Profit_Margin_Percent\") < 100), \"High Margin\")\n",
    "     .otherwise(\"Very High Margin\")\n",
    ")\n",
    "\n",
    "# Display the categorized data\n",
    "display(df_transformed.select(\n",
    "    \"Product_Name\", \"Product_Category\", product_sales_price_col, \"Price_Category\", \n",
    "    \"Profit_Margin_Percent\", \"Margin_Category\"\n",
    ").limit(10).toPandas())"
   ]
  },
  {
   "cell_type": "markdown",
   "id": "analysis-header",
   "metadata": {},
   "source": [
    "## 8. Data Analysis\n",
    "\n",
    "Perform exploratory analysis on the transformed data to extract insights."
   ]
  },
  {
   "cell_type": "code",
   "execution_count": 54,
   "id": "analysis-cell",
   "metadata": {},
   "outputs": [
    {
     "name": "stdout",
     "output_type": "stream",
     "text": [
      "Products by Category:\n",
      "+--------------------+-----+\n",
      "|    Product_Category|count|\n",
      "+--------------------+-----+\n",
      "|  Furniture - Tables|  672|\n",
      "|Furniture - Compo...|  386|\n",
      "|  Furniture - Office|  368|\n",
      "| Furniture - Storage|  308|\n",
      "+--------------------+-----+\n",
      "\n",
      "\n",
      "Average Profit Margin by Product Category:\n",
      "+--------------------+-------------------------+\n",
      "|    Product_Category|Avg_Profit_Margin_Percent|\n",
      "+--------------------+-------------------------+\n",
      "|  Furniture - Tables|                    69.29|\n",
      "|  Furniture - Office|                     50.0|\n",
      "|Furniture - Compo...|                     25.0|\n",
      "| Furniture - Storage|                     10.5|\n",
      "+--------------------+-------------------------+\n",
      "\n",
      "\n",
      "Production Efficiency by Department:\n",
      "+------------+-------------------------+\n",
      "| Responsible|Avg_Production_Efficiency|\n",
      "+------------+-------------------------+\n",
      "|Department 2|                    95.45|\n",
      "|Department 1|                    95.37|\n",
      "|Department 5|                    95.28|\n",
      "|Department 3|                    94.12|\n",
      "|Department 4|                     93.5|\n",
      "+------------+-------------------------+\n",
      "\n",
      "\n",
      "Average Production Duration by Product Category:\n",
      "+--------------------+-------------------+\n",
      "|    Product_Category|Avg_Production_Days|\n",
      "+--------------------+-------------------+\n",
      "|  Furniture - Office|               27.3|\n",
      "| Furniture - Storage|               27.1|\n",
      "|  Furniture - Tables|               27.0|\n",
      "|Furniture - Compo...|               26.9|\n",
      "+--------------------+-------------------+\n",
      "\n",
      "\n",
      "Monthly Production Count:\n",
      "+----------+-----------+----------------+-----+\n",
      "|Start_Year|Start_Month|Start_Month_Name|count|\n",
      "+----------+-----------+----------------+-----+\n",
      "|      2024|          1|         January|  141|\n",
      "|      2024|          2|        February|  175|\n",
      "|      2024|          3|           March|  181|\n",
      "|      2024|          4|           April|  160|\n",
      "|      2024|          5|             May|  189|\n",
      "|      2024|          6|            June|  195|\n",
      "|      2024|          7|            July|  169|\n",
      "|      2024|          8|          August|  177|\n",
      "|      2024|          9|       September|  170|\n",
      "|      2024|         10|         October|  177|\n",
      "+----------+-----------+----------------+-----+\n",
      "\n"
     ]
    }
   ],
   "source": [
    "# Perform some analysis on the transformed data\n",
    "\n",
    "# Count products by category\n",
    "print(\"Products by Category:\")\n",
    "df_transformed.groupBy(\"Product_Category\").count().orderBy(F.desc(\"count\")).show()\n",
    "\n",
    "# Average profit margin by product category\n",
    "print(\"\\nAverage Profit Margin by Product Category:\")\n",
    "df_transformed.groupBy(\"Product_Category\") \\\n",
    "    .agg(F.round(F.avg(\"Profit_Margin_Percent\"), 2).alias(\"Avg_Profit_Margin_Percent\")) \\\n",
    "    .orderBy(F.desc(\"Avg_Profit_Margin_Percent\")) \\\n",
    "    .show()\n",
    "\n",
    "# Production efficiency by responsible department\n",
    "print(\"\\nProduction Efficiency by Department:\")\n",
    "df_transformed.groupBy(\"Responsible\") \\\n",
    "    .agg(F.round(F.avg(\"Production_Efficiency\"), 2).alias(\"Avg_Production_Efficiency\")) \\\n",
    "    .orderBy(F.desc(\"Avg_Production_Efficiency\")) \\\n",
    "    .show()\n",
    "\n",
    "# Average production duration by product category\n",
    "print(\"\\nAverage Production Duration by Product Category:\")\n",
    "df_transformed.groupBy(\"Product_Category\") \\\n",
    "    .agg(F.round(F.avg(\"Production_Duration_Days\"), 1).alias(\"Avg_Production_Days\")) \\\n",
    "    .orderBy(F.desc(\"Avg_Production_Days\")) \\\n",
    "    .show()\n",
    "\n",
    "# Monthly production count\n",
    "print(\"\\nMonthly Production Count:\")\n",
    "df_transformed.groupBy(\"Start_Year\", \"Start_Month\", \"Start_Month_Name\") \\\n",
    "    .count() \\\n",
    "    .orderBy(\"Start_Year\", \"Start_Month\") \\\n",
    "    .show()"
   ]
  },
  {
   "cell_type": "markdown",
   "id": "save-data-header",
   "metadata": {},
   "source": [
    "## 9. Save Transformed Data\n",
    "\n",
    "Save the transformed data to the Silver layer in both Parquet and CSV formats."
   ]
  },
  {
   "cell_type": "code",
   "execution_count": 55,
   "id": "save-data-cell",
   "metadata": {},
   "outputs": [
    {
     "name": "stdout",
     "output_type": "stream",
     "text": [
      "Transformed data saved to c:\\Users\\oussema\\OneDrive\\Bureau\\FSEGN\\DW-Odoo\\output\\silverLayer\\2025-05-08\\mrp_production.parquet\n",
      "Transformed data also saved as CSV to c:\\Users\\oussema\\OneDrive\\Bureau\\FSEGN\\DW-Odoo\\output\\silverLayer\\2025-05-08\\mrp_production.csv\n",
      "\n",
      "Transformation Summary:\n",
      "Input rows: 1734\n",
      "Output rows: 1734\n",
      "Input columns: 12\n",
      "Output columns: 26\n",
      "New columns added: 14\n",
      "\n",
      "Transformation completed successfully!\n"
     ]
    }
   ],
   "source": [
    "# Ensure the silver layer directory exists\n",
    "os.makedirs(silver_path, exist_ok=True)\n",
    "\n",
    "# Save the transformed data to the silver layer\n",
    "try:\n",
    "    # Save as parquet format\n",
    "    df_transformed.write.mode(\"overwrite\").parquet(os.path.join(silver_path, \"mrp_production.parquet\"))\n",
    "    log_message(f\"Transformed data saved to {os.path.join(silver_path, 'mrp_production.parquet')}\")\n",
    "    \n",
    "    # Also save as CSV for easier viewing if needed\n",
    "    df_transformed.toPandas().to_csv(os.path.join(silver_path, \"mrp_production.csv\"), index=False)\n",
    "    log_message(f\"Transformed data also saved as CSV to {os.path.join(silver_path, 'mrp_production.csv')}\")\n",
    "    \n",
    "    # Print summary of the transformation\n",
    "    print(f\"\\nTransformation Summary:\")\n",
    "    print(f\"Input rows: {df.count()}\")\n",
    "    print(f\"Output rows: {df_transformed.count()}\")\n",
    "    print(f\"Input columns: {len(df.columns)}\")\n",
    "    print(f\"Output columns: {len(df_transformed.columns)}\")\n",
    "    print(f\"New columns added: {len(df_transformed.columns) - len(df.columns)}\")\n",
    "    print(f\"\\nTransformation completed successfully!\")\n",
    "    \n",
    "except Exception as e:\n",
    "    log_message(f\"Error saving transformed data: {str(e)}\", level=\"error\")\n",
    "    import traceback\n",
    "    log_message(traceback.format_exc(), level=\"error\")"
   ]
  },
  {
   "cell_type": "markdown",
   "id": "cleanup-header",
   "metadata": {},
   "source": [
    "## 10. Cleanup\n",
    "\n",
    "Stop the Spark session and release resources."
   ]
  },
  {
   "cell_type": "code",
   "execution_count": 56,
   "id": "cleanup-cell",
   "metadata": {},
   "outputs": [
    {
     "name": "stdout",
     "output_type": "stream",
     "text": [
      "Spark session stopped.\n"
     ]
    }
   ],
   "source": [
    "# Safely stop Spark session\n",
    "try:\n",
    "    # Check if spark session is active before stopping\n",
    "    spark.sparkContext.getConf().getAll()\n",
    "    spark.stop()\n",
    "    print(\"Spark session stopped.\")\n",
    "except:\n",
    "    print(\"No active Spark session to stop.\")"
   ]
  }
 ],
 "metadata": {
  "kernelspec": {
   "display_name": "Python 3",
   "language": "python",
   "name": "python3"
  },
  "language_info": {
   "codemirror_mode": {
    "name": "ipython",
    "version": 3
   },
   "file_extension": ".py",
   "mimetype": "text/x-python",
   "name": "python",
   "nbconvert_exporter": "python",
   "pygments_lexer": "ipython3",
   "version": "3.10.11"
  }
 },
 "nbformat": 4,
 "nbformat_minor": 5
}
